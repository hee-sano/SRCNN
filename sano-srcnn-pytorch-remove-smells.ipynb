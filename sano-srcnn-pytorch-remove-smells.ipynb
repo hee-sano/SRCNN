{
 "cells": [
  {
   "cell_type": "markdown",
   "metadata": {},
   "source": [
    "# 14.06.2020 weekend research paper reading and implemention\n",
    "- ### paper: [SRCNN](https://arxiv.org/pdf/1501.00092)\n",
    "- ### implementation: pytorch\n",
    "********"
   ]
  },
  {
   "cell_type": "markdown",
   "metadata": {},
   "source": [
    "# libraries and configs"
   ]
  },
  {
   "cell_type": "code",
   "execution_count": 2,
   "metadata": {
    "tags": []
   },
   "outputs": [
    {
     "output_type": "stream",
     "name": "stdout",
     "text": "imported necessarry libs\n"
    }
   ],
   "source": [
    "import numpy as np\n",
    "import pandas as pd\n",
    "from pathlib import *\n",
    "import os\n",
    "import re\n",
    "import gc\n",
    "import copy\n",
    "from sklearn.model_selection import train_test_split\n",
    "from sklearn.metrics import mean_squared_error as MSE\n",
    "import torch\n",
    "import torchvision\n",
    "import torch.nn as nn\n",
    "import torch.nn.functional as F\n",
    "from PIL import Image\n",
    "from tqdm import tqdm\n",
    "import warnings\n",
    "warnings.filterwarnings(\"ignore\")\n",
    "print('imported necessarry libs')"
   ]
  },
  {
   "cell_type": "markdown",
   "metadata": {},
   "source": [
    "# data"
   ]
  },
  {
   "cell_type": "code",
   "execution_count": 3,
   "metadata": {
    "_cell_guid": "79c7e3d0-c299-4dcb-8224-4455121ee9b0",
    "_uuid": "d629ff2d2480ee46fbb7e2d37f6b5fab8052498a"
   },
   "outputs": [],
   "source": [
    "class T91Set(torch.utils.data.Dataset):\n",
    "    def __init__(self, image_dir, Y_size = 400, res_factor = 2.5, isTest = False):\n",
    "        \n",
    "        target_size = Y_size//res_factor\n",
    "        self.isTest = isTest\n",
    "        self.image_dir = image_dir\n",
    "        self.Y_size = Y_size\n",
    "        self.res_factor = res_factor\n",
    "        self.target_size = target_size\n",
    "        self.image_list = os.listdir(image_dir)\n",
    "        self.transforms = torchvision.transforms.Compose([\n",
    "            torchvision.transforms.CenterCrop((self.Y_size, self.Y_size)),\n",
    "            torchvision.transforms.ToTensor(),\n",
    "        ])\n",
    "        self.test_transforms = torchvision.transforms.Compose([\n",
    "            torchvision.transforms.CenterCrop((self.Y_size / self.res_factor, self.Y_size / self.res_factor)),\n",
    "            torchvision.transforms.ToTensor(),\n",
    "        ])\n",
    "        self.PIL_transform = torchvision.transforms.Compose([\n",
    "            torchvision.transforms.ToPILImage(),\n",
    "        ])\n",
    "        \n",
    "    def __getitem__(self, index):\n",
    "        \n",
    "        if self.isTest:\n",
    "            image_path = self.image_dir + str(self.image_list[index])\n",
    "            image = Image.open(image_path)\n",
    "            image, _, _ = image.convert('YCbCr').split()\n",
    "            image = self.test_transforms(image)\n",
    "            \n",
    "            LR = self.PIL_transform(image)\n",
    "            LR = LR.resize((self.Y_size, self.Y_size), Image.BICUBIC)\n",
    "            LR = self.transforms(LR)\n",
    "            return LR\n",
    "        \n",
    "        image_path = self.image_dir + str(self.image_list[index])\n",
    "        image = Image.open(image_path)\n",
    "        image, _, _ = image.convert('YCbCr').split()\n",
    "        image = self.transforms(image)\n",
    "        \n",
    "        HR = image.clone()\n",
    "        c, h, w = HR.shape\n",
    "        \n",
    "        LR = self.PIL_transform(image)\n",
    "        LR = LR.resize((int(h // self.res_factor), int( w // self.res_factor)), Image.BICUBIC)\n",
    "        LR = LR.resize((h, w), Image.BICUBIC)\n",
    "        LR = self.transforms(LR)\n",
    "        \n",
    "        return torch.tensor(LR.numpy(), dtype = torch.float), torch.tensor(HR.numpy(), dtype = torch.float)\n",
    "    \n",
    "    def __len__(self):\n",
    "        return len(self.image_list)"
   ]
  },
  {
   "cell_type": "code",
   "execution_count": 14,
   "metadata": {
    "tags": []
   },
   "outputs": [
    {
     "output_type": "stream",
     "name": "stdout",
     "text": "torch.Size([1, 400, 400])\n"
    }
   ],
   "source": [
    "train_set = T91Set(\n",
    "    image_dir='t91-image-data/sris_srcnn_data/T91/',\n",
    ")\n",
    "\n",
    "train_loader = torch.utils.data.DataLoader(\n",
    "    dataset=train_set,\n",
    "    batch_size=4,\n",
    "    shuffle=True,\n",
    "    num_workers=0,\n",
    ")\n",
    "\n",
    "LRs, HRs = next(iter(train_loader))\n",
    "smol, big = LRs[0], HRs[0]"
   ]
  },
  {
   "cell_type": "code",
   "execution_count": 12,
   "metadata": {},
   "outputs": [],
   "source": [
    "val_set = T91Set(\n",
    "    image_dir='t91-image-data/sris_srcnn_data/T91_val/',\n",
    ")\n",
    "\n",
    "val_loader = torch.utils.data.DataLoader(\n",
    "    dataset=val_set,\n",
    "    batch_size=1,\n",
    "    shuffle=True,\n",
    "    num_workers=0,\n",
    ")\n",
    "\n",
    "LRs, HRs = next(iter(val_loader))\n",
    "smol, big = LRs, HRs"
   ]
  },
  {
   "cell_type": "code",
   "execution_count": 17,
   "metadata": {
    "tags": []
   },
   "outputs": [
    {
     "output_type": "stream",
     "name": "stdout",
     "text": "torch.Size([1, 1, 400, 400])\n"
    }
   ],
   "source": [
    "test_set = T91Set(\n",
    "    image_dir='t91-image-data/sris_srcnn_data/T91_test/',\n",
    "    isTest=True,\n",
    ")\n",
    "\n",
    "\n",
    "test_loader = torch.utils.data.DataLoader(\n",
    "    dataset=test_set,\n",
    "    batch_size=1,\n",
    "    shuffle=True,\n",
    "    num_workers=0,\n",
    ")\n",
    "\n",
    "LR = next(iter(test_loader))\n",
    "print(LR.shape)"
   ]
  },
  {
   "cell_type": "markdown",
   "metadata": {},
   "source": [
    "# model definition"
   ]
  },
  {
   "cell_type": "code",
   "execution_count": 18,
   "metadata": {},
   "outputs": [],
   "source": [
    "class SRCNN(nn.Module):\n",
    "  def __init__(self, c, n1, n2, n3, f1, f2, f3):\n",
    "    super(SRCNN, self).__init__()\n",
    "\n",
    "    # patch extraction\n",
    "    self.F1 = nn.Conv2d(in_channels=c,\n",
    "                        out_channels=n1,\n",
    "                        kernel_size=f1,\n",
    "                        stride=1,\n",
    "                        padding=4,                      \n",
    "                        )\n",
    "    \n",
    "    # non-linear mapping\n",
    "    self.F2 = nn.Conv2d(in_channels=n1,\n",
    "                        out_channels=n2,\n",
    "                        kernel_size=f2,\n",
    "                        stride=1,\n",
    "                        padding=1,       \n",
    "                        )\n",
    "    \n",
    "    # reconstruction\n",
    "    self.F3 = nn.Conv2d(in_channels=n2,\n",
    "                        out_channels=n3,\n",
    "                        kernel_size=f3,\n",
    "                        stride=1,\n",
    "                        padding=2,\n",
    "                        )\n",
    "    \n",
    "  def forward(self, low_res_img):\n",
    "    patches = F.relu(self.F1(low_res_img))\n",
    "    mapping = F.relu(self.F2(patches))\n",
    "    high_res = self.F3(mapping)\n",
    "\n",
    "    return high_res"
   ]
  },
  {
   "cell_type": "code",
   "execution_count": 19,
   "metadata": {},
   "outputs": [],
   "source": [
    "model = SRCNN(\n",
    "    c=1,\n",
    "    n1=64,\n",
    "    n2=32,\n",
    "    n3=1,\n",
    "    f1=9,\n",
    "    f2=3,\n",
    "    f3=5,\n",
    ")"
   ]
  },
  {
   "cell_type": "markdown",
   "metadata": {},
   "source": [
    "# training \n",
    "- change validation set to kaggle profile photo only, overfit on that image "
   ]
  },
  {
   "cell_type": "code",
   "execution_count": 20,
   "metadata": {},
   "outputs": [],
   "source": [
    "def train(\n",
    "    epochs,\n",
    "    model,\n",
    "    device,\n",
    "    train_loader,\n",
    "    val_loader,\n",
    "    criterion,\n",
    "    optimizer,\n",
    "    test_loader\n",
    "):\n",
    "    os.system('mkdir models')\n",
    "    os.system('mkdir big_goose_pics')\n",
    "    model = model.to(device)\n",
    "    criterion = criterion.to(device)\n",
    "    for epoch in tqdm(range(epochs)):\n",
    "        epoch_loss = 0\n",
    "\n",
    "        model.train()\n",
    "        for x, y in train_loader:\n",
    "            # fetch the features and targets from train_loader\n",
    "            x = x.to(device)\n",
    "            y = y.to(device)\n",
    "\n",
    "            optimizer.zero_grad()\n",
    "\n",
    "            z = model(x)\n",
    "    #             print(z.dtype)\n",
    "    #             print(y.dtype)\n",
    "            loss = criterion(z, y)\n",
    "            loss.backward()\n",
    "            optimizer.step()\n",
    "\n",
    "            epoch_loss += loss.item()\n",
    "            torch.cuda.empty_cache()\n",
    "\n",
    "        # print validation image and model predictions \n",
    "        if epoch%50 == 0:\n",
    "            with torch.no_grad():\n",
    "                model.eval()\n",
    "                \n",
    "                for goose in test_loader:\n",
    "                    goose = goose.to(device)                         # LR\n",
    "                    big_goose = model(goose).detach().cpu().numpy()  # HR\n",
    "                    print(big_goose.shape)\n",
    "                    plt.imshow(big_goose.squeeze().squeeze(), cmap='Greys_r')\n",
    "                    plt.show()\n",
    "                print('=' * 20, 'EPOCH LOSS', epoch_loss, '=' * 20)\n",
    "                torch.save(model.state_dict(), './models/ckpt_' + str(epoch) + '.pth')  \n",
    "                img_plt.imsave('./big_goose_pics/big_goose_' + str(epoch) + '.png', big_goose.squeeze().squeeze(), cmap='Greys_r')              "
   ]
  },
  {
   "cell_type": "code",
   "execution_count": 21,
   "metadata": {
    "tags": []
   },
   "outputs": [
    {
     "output_type": "stream",
     "name": "stderr",
     "text": "0%|          | 0/500 [00:49<?, ?it/s](1, 1, 400, 400)\n\n"
    },
    {
     "output_type": "error",
     "ename": "NameError",
     "evalue": "name 'plt' is not defined",
     "traceback": [
      "\u001b[1;31m---------------------------------------------------------------------------\u001b[0m",
      "\u001b[1;31mNameError\u001b[0m                                 Traceback (most recent call last)",
      "\u001b[1;32m<ipython-input-21-926d1ef21639>\u001b[0m in \u001b[0;36m<module>\u001b[1;34m\u001b[0m\n\u001b[0;32m      8\u001b[0m     \u001b[0mtest_loader\u001b[0m\u001b[1;33m=\u001b[0m\u001b[0mtest_loader\u001b[0m\u001b[1;33m,\u001b[0m\u001b[1;33m\u001b[0m\u001b[1;33m\u001b[0m\u001b[0m\n\u001b[0;32m      9\u001b[0m     \u001b[0mcriterion\u001b[0m \u001b[1;33m=\u001b[0m \u001b[0mnn\u001b[0m\u001b[1;33m.\u001b[0m\u001b[0mMSELoss\u001b[0m\u001b[1;33m(\u001b[0m\u001b[1;33m)\u001b[0m\u001b[1;33m,\u001b[0m\u001b[1;33m\u001b[0m\u001b[1;33m\u001b[0m\u001b[0m\n\u001b[1;32m---> 10\u001b[1;33m     \u001b[0moptimizer\u001b[0m\u001b[1;33m=\u001b[0m\u001b[0moptimizer\u001b[0m\u001b[1;33m,\u001b[0m\u001b[1;33m\u001b[0m\u001b[1;33m\u001b[0m\u001b[0m\n\u001b[0m\u001b[0;32m     11\u001b[0m )\n",
      "\u001b[1;32m<ipython-input-20-040472852aca>\u001b[0m in \u001b[0;36mtrain\u001b[1;34m(epochs, model, device, train_loader, val_loader, criterion, optimizer, test_loader)\u001b[0m\n\u001b[0;32m     43\u001b[0m                     \u001b[0mbig_goose\u001b[0m \u001b[1;33m=\u001b[0m \u001b[0mmodel\u001b[0m\u001b[1;33m(\u001b[0m\u001b[0mgoose\u001b[0m\u001b[1;33m)\u001b[0m\u001b[1;33m.\u001b[0m\u001b[0mdetach\u001b[0m\u001b[1;33m(\u001b[0m\u001b[1;33m)\u001b[0m\u001b[1;33m.\u001b[0m\u001b[0mcpu\u001b[0m\u001b[1;33m(\u001b[0m\u001b[1;33m)\u001b[0m\u001b[1;33m.\u001b[0m\u001b[0mnumpy\u001b[0m\u001b[1;33m(\u001b[0m\u001b[1;33m)\u001b[0m  \u001b[1;31m# HR\u001b[0m\u001b[1;33m\u001b[0m\u001b[1;33m\u001b[0m\u001b[0m\n\u001b[0;32m     44\u001b[0m                     \u001b[0mprint\u001b[0m\u001b[1;33m(\u001b[0m\u001b[0mbig_goose\u001b[0m\u001b[1;33m.\u001b[0m\u001b[0mshape\u001b[0m\u001b[1;33m)\u001b[0m\u001b[1;33m\u001b[0m\u001b[1;33m\u001b[0m\u001b[0m\n\u001b[1;32m---> 45\u001b[1;33m                     \u001b[0mplt\u001b[0m\u001b[1;33m.\u001b[0m\u001b[0mimshow\u001b[0m\u001b[1;33m(\u001b[0m\u001b[0mbig_goose\u001b[0m\u001b[1;33m.\u001b[0m\u001b[0msqueeze\u001b[0m\u001b[1;33m(\u001b[0m\u001b[1;33m)\u001b[0m\u001b[1;33m.\u001b[0m\u001b[0msqueeze\u001b[0m\u001b[1;33m(\u001b[0m\u001b[1;33m)\u001b[0m\u001b[1;33m,\u001b[0m \u001b[0mcmap\u001b[0m\u001b[1;33m=\u001b[0m\u001b[1;34m'Greys_r'\u001b[0m\u001b[1;33m)\u001b[0m\u001b[1;33m\u001b[0m\u001b[1;33m\u001b[0m\u001b[0m\n\u001b[0m\u001b[0;32m     46\u001b[0m                     \u001b[0mplt\u001b[0m\u001b[1;33m.\u001b[0m\u001b[0mshow\u001b[0m\u001b[1;33m(\u001b[0m\u001b[1;33m)\u001b[0m\u001b[1;33m\u001b[0m\u001b[1;33m\u001b[0m\u001b[0m\n\u001b[0;32m     47\u001b[0m                 \u001b[0mprint\u001b[0m\u001b[1;33m(\u001b[0m\u001b[1;34m'='\u001b[0m \u001b[1;33m*\u001b[0m \u001b[1;36m20\u001b[0m\u001b[1;33m,\u001b[0m \u001b[1;34m'EPOCH LOSS'\u001b[0m\u001b[1;33m,\u001b[0m \u001b[0mepoch_loss\u001b[0m\u001b[1;33m,\u001b[0m \u001b[1;34m'='\u001b[0m \u001b[1;33m*\u001b[0m \u001b[1;36m20\u001b[0m\u001b[1;33m)\u001b[0m\u001b[1;33m\u001b[0m\u001b[1;33m\u001b[0m\u001b[0m\n",
      "\u001b[1;31mNameError\u001b[0m: name 'plt' is not defined"
     ]
    }
   ],
   "source": [
    "optimizer = torch.optim.Adam(model.parameters())\n",
    "train(\n",
    "    epochs=500,\n",
    "    model=model,\n",
    "    device=torch.device(\"cuda\" if torch.cuda.is_available() else \"cpu\"),\n",
    "    train_loader=train_loader,\n",
    "    val_loader=val_loader,\n",
    "    test_loader=test_loader,\n",
    "    criterion = nn.MSELoss(),\n",
    "    optimizer=optimizer,\n",
    ")"
   ]
  },
  {
   "cell_type": "code",
   "execution_count": null,
   "metadata": {},
   "outputs": [],
   "source": []
  }
 ],
 "metadata": {
  "kernelspec": {
   "display_name": "Python 3.7.7 64-bit ('srcnn-env': venv)",
   "language": "python",
   "name": "python37764bitsrcnnenvvenv4ade9b636aa94408a0d58b61c58fd604"
  },
  "language_info": {
   "codemirror_mode": {
    "name": "ipython",
    "version": 3
   },
   "file_extension": ".py",
   "mimetype": "text/x-python",
   "name": "python",
   "nbconvert_exporter": "python",
   "pygments_lexer": "ipython3",
   "version": "3.7.7-final"
  }
 },
 "nbformat": 4,
 "nbformat_minor": 4
}